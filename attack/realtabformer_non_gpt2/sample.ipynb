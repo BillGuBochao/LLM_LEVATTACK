{
 "cells": [
  {
   "cell_type": "code",
   "execution_count": 7,
   "id": "d9ea76d5-7270-4cc4-9ba1-750c429074cb",
   "metadata": {},
   "outputs": [],
   "source": [
    "import pandas as pd\n",
    "import numpy as np\n",
    "\n",
    "p = pd.read_csv('rossman_data/original_data/larger_data/parent.csv')\n",
    "c = pd.read_csv('rossman_data/original_data/larger_data/child.csv')\n",
    "p_small = p.sample(50)\n",
    "c_small = c[c['Store'].isin(np.unique(p_small['Store']))]"
   ]
  },
  {
   "cell_type": "code",
   "execution_count": 13,
   "id": "e379cfc8-df84-46be-b239-95761bb2b89d",
   "metadata": {},
   "outputs": [],
   "source": [
    "p_small.to_csv('rossman_data/original_data/parent.csv', index = False)\n",
    "c_small.to_csv('rossman_data/original_data/child.csv', index = False)"
   ]
  }
 ],
 "metadata": {
  "kernelspec": {
   "display_name": "Python 3 (ipykernel)",
   "language": "python",
   "name": "python3"
  },
  "language_info": {
   "codemirror_mode": {
    "name": "ipython",
    "version": 3
   },
   "file_extension": ".py",
   "mimetype": "text/x-python",
   "name": "python",
   "nbconvert_exporter": "python",
   "pygments_lexer": "ipython3",
   "version": "3.12.2"
  }
 },
 "nbformat": 4,
 "nbformat_minor": 5
}
